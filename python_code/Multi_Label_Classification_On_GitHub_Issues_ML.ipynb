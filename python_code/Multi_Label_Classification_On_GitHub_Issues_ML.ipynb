{
 "cells": [
  {
   "cell_type": "code",
   "execution_count": 46,
   "id": "96d7da86",
   "metadata": {},
   "outputs": [
    {
     "name": "stdout",
     "output_type": "stream",
     "text": [
      "/Users/macbookpro/hdd/MSc/Dissertation/multilabeltextclassification\n"
     ]
    }
   ],
   "source": [
    "import os\n",
    "current_directory = os.getcwd()\n",
    "print(current_directory)"
   ]
  },
  {
   "cell_type": "code",
   "execution_count": 47,
   "id": "66eb26b6",
   "metadata": {},
   "outputs": [
    {
     "data": {
      "text/plain": [
       "'1.22.0'"
      ]
     },
     "execution_count": 47,
     "metadata": {},
     "output_type": "execute_result"
    }
   ],
   "source": [
    "import numpy\n",
    "numpy.version.version"
   ]
  },
  {
   "cell_type": "code",
   "execution_count": 48,
   "id": "e472e724",
   "metadata": {},
   "outputs": [],
   "source": [
    "# importing libraries\n",
    "\n",
    "from tensorflow import keras\n",
    "import tensorflow as tf\n",
    "from tensorflow.keras.preprocessing.text import Tokenizer\n",
    "#from keras.preprocessing.sequence import pad_sequences\n",
    "#from keras_preprocessing.sequence import pad_sequences\n",
    "#from tensorflow.keras.preprocessing.sequence import pad_sequences\n",
    "from keras.utils import pad_sequences\n",
    "from tensorflow.keras.preprocessing import text, sequence\n",
    "from tensorflow.keras import initializers, regularizers, constraints, optimizers, layers\n",
    "from tensorflow.python.keras.models import Model, Input\n",
    "from tensorflow.keras.models import Sequential\n",
    "from tensorflow.keras.layers import GRU, Dense, Input, LSTM, Embedding, Dropout, SpatialDropout1D, Activation, SimpleRNN\n",
    "from tensorflow.keras.layers import Conv1D, Bidirectional, GlobalMaxPool1D, MaxPooling1D, BatchNormalization\n",
    "from tensorflow.keras.optimizers import Adam\n",
    "#from tensorflow.keras.optimizers import SGD\n",
    "\n",
    "# For custom metrics\n",
    "import keras.backend as K\n",
    "from keras.utils.vis_utils import plot_model\n",
    "from keras.callbacks import EarlyStopping \n",
    "\n",
    "import pandas as pd\n",
    "import numpy as np\n",
    "\n",
    "import matplotlib.pyplot as plt\n",
    "plt.style.use('seaborn')\n",
    "\n",
    "import seaborn as sns\n",
    "from IPython.display import Image\n",
    "\n",
    "from tqdm import tqdm\n",
    "from nltk.corpus import stopwords\n",
    "from nltk.tokenize import RegexpTokenizer \n",
    "import os, re, csv, math, codecs\n",
    "from nltk.tokenize import word_tokenize\n",
    "import string\n",
    "import gensim\n",
    "\n",
    "sns.set_style(\"whitegrid\")\n",
    "np.random.seed(0)"
   ]
  },
  {
   "cell_type": "code",
   "execution_count": 49,
   "id": "56e725c1",
   "metadata": {},
   "outputs": [
    {
     "name": "stdout",
     "output_type": "stream",
     "text": [
      "<class 'pandas.core.frame.DataFrame'>\n",
      "RangeIndex: 226163 entries, 0 to 226162\n",
      "Data columns (total 17 columns):\n",
      " #   Column            Non-Null Count   Dtype \n",
      "---  ------            --------------   ----- \n",
      " 0   title             225152 non-null  object\n",
      " 1   body              225866 non-null  object\n",
      " 2   task              226163 non-null  int64 \n",
      " 3   bug               226163 non-null  int64 \n",
      " 4   documentation     226163 non-null  int64 \n",
      " 5   duplicate         226163 non-null  int64 \n",
      " 6   enhancement       226163 non-null  int64 \n",
      " 7   good_first_issue  226163 non-null  int64 \n",
      " 8   help_wanted       226163 non-null  int64 \n",
      " 9   invalid           226163 non-null  int64 \n",
      " 10  question          226163 non-null  int64 \n",
      " 11  wontfix           226163 non-null  int64 \n",
      " 12  gitalk            226163 non-null  int64 \n",
      " 13  priority_medium   226163 non-null  int64 \n",
      " 14  priority_high     226163 non-null  int64 \n",
      " 15  feature_request   226163 non-null  int64 \n",
      " 16  feature           226163 non-null  int64 \n",
      "dtypes: int64(15), object(2)\n",
      "memory usage: 29.3+ MB\n"
     ]
    }
   ],
   "source": [
    "df = pd.read_csv('/Users/macbookpro/hdd/MSc/Dissertation/multilabeltextclassification/githubissuedata.csv')\n",
    "df.info()"
   ]
  },
  {
   "cell_type": "code",
   "execution_count": 50,
   "id": "c9abb04d",
   "metadata": {},
   "outputs": [
    {
     "data": {
      "text/html": [
       "<div>\n",
       "<style scoped>\n",
       "    .dataframe tbody tr th:only-of-type {\n",
       "        vertical-align: middle;\n",
       "    }\n",
       "\n",
       "    .dataframe tbody tr th {\n",
       "        vertical-align: top;\n",
       "    }\n",
       "\n",
       "    .dataframe thead th {\n",
       "        text-align: right;\n",
       "    }\n",
       "</style>\n",
       "<table border=\"1\" class=\"dataframe\">\n",
       "  <thead>\n",
       "    <tr style=\"text-align: right;\">\n",
       "      <th></th>\n",
       "      <th>title</th>\n",
       "      <th>body</th>\n",
       "      <th>task</th>\n",
       "      <th>bug</th>\n",
       "      <th>documentation</th>\n",
       "      <th>duplicate</th>\n",
       "      <th>enhancement</th>\n",
       "      <th>good_first_issue</th>\n",
       "      <th>help_wanted</th>\n",
       "      <th>invalid</th>\n",
       "      <th>question</th>\n",
       "      <th>wontfix</th>\n",
       "      <th>gitalk</th>\n",
       "      <th>priority_medium</th>\n",
       "      <th>priority_high</th>\n",
       "      <th>feature_request</th>\n",
       "      <th>feature</th>\n",
       "    </tr>\n",
       "  </thead>\n",
       "  <tbody>\n",
       "    <tr>\n",
       "      <th>0</th>\n",
       "      <td>My Account Paid  laptop 1440 resolution  Updat...</td>\n",
       "      <td>Case:Distance between Registered email address...</td>\n",
       "      <td>0</td>\n",
       "      <td>1</td>\n",
       "      <td>0</td>\n",
       "      <td>0</td>\n",
       "      <td>0</td>\n",
       "      <td>0</td>\n",
       "      <td>0</td>\n",
       "      <td>1</td>\n",
       "      <td>0</td>\n",
       "      <td>0</td>\n",
       "      <td>0</td>\n",
       "      <td>0</td>\n",
       "      <td>0</td>\n",
       "      <td>0</td>\n",
       "      <td>0</td>\n",
       "    </tr>\n",
       "    <tr>\n",
       "      <th>1</th>\n",
       "      <td>How to fix sleepimpl warning when ECS credenti...</td>\n",
       "      <td>Prerequisites X Ive searched for previous sim...</td>\n",
       "      <td>0</td>\n",
       "      <td>1</td>\n",
       "      <td>0</td>\n",
       "      <td>0</td>\n",
       "      <td>0</td>\n",
       "      <td>0</td>\n",
       "      <td>0</td>\n",
       "      <td>0</td>\n",
       "      <td>0</td>\n",
       "      <td>0</td>\n",
       "      <td>0</td>\n",
       "      <td>0</td>\n",
       "      <td>0</td>\n",
       "      <td>0</td>\n",
       "      <td>0</td>\n",
       "    </tr>\n",
       "    <tr>\n",
       "      <th>2</th>\n",
       "      <td>Slider doesnt work on touch devices</td>\n",
       "      <td>DescriptionSlider should work dragging in tou...</td>\n",
       "      <td>0</td>\n",
       "      <td>1</td>\n",
       "      <td>0</td>\n",
       "      <td>0</td>\n",
       "      <td>0</td>\n",
       "      <td>0</td>\n",
       "      <td>0</td>\n",
       "      <td>0</td>\n",
       "      <td>0</td>\n",
       "      <td>0</td>\n",
       "      <td>0</td>\n",
       "      <td>0</td>\n",
       "      <td>0</td>\n",
       "      <td>0</td>\n",
       "      <td>0</td>\n",
       "    </tr>\n",
       "    <tr>\n",
       "      <th>3</th>\n",
       "      <td>add new labels</td>\n",
       "      <td>DescriptionAdd ui and logic to permanently ad...</td>\n",
       "      <td>0</td>\n",
       "      <td>0</td>\n",
       "      <td>0</td>\n",
       "      <td>0</td>\n",
       "      <td>1</td>\n",
       "      <td>0</td>\n",
       "      <td>0</td>\n",
       "      <td>0</td>\n",
       "      <td>0</td>\n",
       "      <td>0</td>\n",
       "      <td>0</td>\n",
       "      <td>0</td>\n",
       "      <td>0</td>\n",
       "      <td>0</td>\n",
       "      <td>0</td>\n",
       "    </tr>\n",
       "    <tr>\n",
       "      <th>4</th>\n",
       "      <td>No lib sub folder in Boost folder</td>\n",
       "      <td>Hi I am following thishttps://www.mlpack.org/d...</td>\n",
       "      <td>0</td>\n",
       "      <td>0</td>\n",
       "      <td>0</td>\n",
       "      <td>0</td>\n",
       "      <td>0</td>\n",
       "      <td>0</td>\n",
       "      <td>1</td>\n",
       "      <td>0</td>\n",
       "      <td>1</td>\n",
       "      <td>0</td>\n",
       "      <td>0</td>\n",
       "      <td>0</td>\n",
       "      <td>0</td>\n",
       "      <td>0</td>\n",
       "      <td>0</td>\n",
       "    </tr>\n",
       "    <tr>\n",
       "      <th>5</th>\n",
       "      <td>Add license notice to CLI</td>\n",
       "      <td>The CLI is missing the license notice. Theres ...</td>\n",
       "      <td>0</td>\n",
       "      <td>0</td>\n",
       "      <td>0</td>\n",
       "      <td>0</td>\n",
       "      <td>0</td>\n",
       "      <td>0</td>\n",
       "      <td>0</td>\n",
       "      <td>0</td>\n",
       "      <td>0</td>\n",
       "      <td>0</td>\n",
       "      <td>0</td>\n",
       "      <td>0</td>\n",
       "      <td>0</td>\n",
       "      <td>0</td>\n",
       "      <td>1</td>\n",
       "    </tr>\n",
       "    <tr>\n",
       "      <th>6</th>\n",
       "      <td>Should show Powershell or AzureCLI code necess...</td>\n",
       "      <td>There is example output from Powershell and Az...</td>\n",
       "      <td>0</td>\n",
       "      <td>0</td>\n",
       "      <td>0</td>\n",
       "      <td>0</td>\n",
       "      <td>1</td>\n",
       "      <td>0</td>\n",
       "      <td>0</td>\n",
       "      <td>0</td>\n",
       "      <td>0</td>\n",
       "      <td>0</td>\n",
       "      <td>0</td>\n",
       "      <td>0</td>\n",
       "      <td>0</td>\n",
       "      <td>0</td>\n",
       "      <td>0</td>\n",
       "    </tr>\n",
       "    <tr>\n",
       "      <th>7</th>\n",
       "      <td>tidboperator could not work with kubernetes 1.23</td>\n",
       "      <td>Bug ReportWhat version of Kubernetes are you ...</td>\n",
       "      <td>0</td>\n",
       "      <td>1</td>\n",
       "      <td>0</td>\n",
       "      <td>0</td>\n",
       "      <td>0</td>\n",
       "      <td>0</td>\n",
       "      <td>0</td>\n",
       "      <td>0</td>\n",
       "      <td>0</td>\n",
       "      <td>0</td>\n",
       "      <td>0</td>\n",
       "      <td>0</td>\n",
       "      <td>0</td>\n",
       "      <td>0</td>\n",
       "      <td>0</td>\n",
       "    </tr>\n",
       "    <tr>\n",
       "      <th>8</th>\n",
       "      <td>Match Live</td>\n",
       "      <td>x Implement game logic x Calculate results ba...</td>\n",
       "      <td>0</td>\n",
       "      <td>0</td>\n",
       "      <td>0</td>\n",
       "      <td>0</td>\n",
       "      <td>1</td>\n",
       "      <td>0</td>\n",
       "      <td>0</td>\n",
       "      <td>0</td>\n",
       "      <td>0</td>\n",
       "      <td>0</td>\n",
       "      <td>0</td>\n",
       "      <td>0</td>\n",
       "      <td>0</td>\n",
       "      <td>0</td>\n",
       "      <td>0</td>\n",
       "    </tr>\n",
       "    <tr>\n",
       "      <th>9</th>\n",
       "      <td>AngularBug Make current location widget more g...</td>\n",
       "      <td>If youve never submitted an issue to the SORMA...</td>\n",
       "      <td>0</td>\n",
       "      <td>1</td>\n",
       "      <td>0</td>\n",
       "      <td>0</td>\n",
       "      <td>0</td>\n",
       "      <td>0</td>\n",
       "      <td>0</td>\n",
       "      <td>0</td>\n",
       "      <td>0</td>\n",
       "      <td>0</td>\n",
       "      <td>0</td>\n",
       "      <td>0</td>\n",
       "      <td>0</td>\n",
       "      <td>0</td>\n",
       "      <td>0</td>\n",
       "    </tr>\n",
       "  </tbody>\n",
       "</table>\n",
       "</div>"
      ],
      "text/plain": [
       "                                               title  \\\n",
       "0  My Account Paid  laptop 1440 resolution  Updat...   \n",
       "1  How to fix sleepimpl warning when ECS credenti...   \n",
       "2                Slider doesnt work on touch devices   \n",
       "3                                     add new labels   \n",
       "4                  No lib sub folder in Boost folder   \n",
       "5                          Add license notice to CLI   \n",
       "6  Should show Powershell or AzureCLI code necess...   \n",
       "7  tidboperator could not work with kubernetes 1.23    \n",
       "8                                         Match Live   \n",
       "9  AngularBug Make current location widget more g...   \n",
       "\n",
       "                                                body  task  bug  \\\n",
       "0  Case:Distance between Registered email address...     0    1   \n",
       "1   Prerequisites X Ive searched for previous sim...     0    1   \n",
       "2   DescriptionSlider should work dragging in tou...     0    1   \n",
       "3   DescriptionAdd ui and logic to permanently ad...     0    0   \n",
       "4  Hi I am following thishttps://www.mlpack.org/d...     0    0   \n",
       "5  The CLI is missing the license notice. Theres ...     0    0   \n",
       "6  There is example output from Powershell and Az...     0    0   \n",
       "7   Bug ReportWhat version of Kubernetes are you ...     0    1   \n",
       "8   x Implement game logic x Calculate results ba...     0    0   \n",
       "9  If youve never submitted an issue to the SORMA...     0    1   \n",
       "\n",
       "   documentation  duplicate  enhancement  good_first_issue  help_wanted  \\\n",
       "0              0          0            0                 0            0   \n",
       "1              0          0            0                 0            0   \n",
       "2              0          0            0                 0            0   \n",
       "3              0          0            1                 0            0   \n",
       "4              0          0            0                 0            1   \n",
       "5              0          0            0                 0            0   \n",
       "6              0          0            1                 0            0   \n",
       "7              0          0            0                 0            0   \n",
       "8              0          0            1                 0            0   \n",
       "9              0          0            0                 0            0   \n",
       "\n",
       "   invalid  question  wontfix  gitalk  priority_medium  priority_high  \\\n",
       "0        1         0        0       0                0              0   \n",
       "1        0         0        0       0                0              0   \n",
       "2        0         0        0       0                0              0   \n",
       "3        0         0        0       0                0              0   \n",
       "4        0         1        0       0                0              0   \n",
       "5        0         0        0       0                0              0   \n",
       "6        0         0        0       0                0              0   \n",
       "7        0         0        0       0                0              0   \n",
       "8        0         0        0       0                0              0   \n",
       "9        0         0        0       0                0              0   \n",
       "\n",
       "   feature_request  feature  \n",
       "0                0        0  \n",
       "1                0        0  \n",
       "2                0        0  \n",
       "3                0        0  \n",
       "4                0        0  \n",
       "5                0        1  \n",
       "6                0        0  \n",
       "7                0        0  \n",
       "8                0        0  \n",
       "9                0        0  "
      ]
     },
     "execution_count": 50,
     "metadata": {},
     "output_type": "execute_result"
    }
   ],
   "source": [
    "df.head(10)"
   ]
  },
  {
   "cell_type": "code",
   "execution_count": 51,
   "id": "2c960582",
   "metadata": {},
   "outputs": [
    {
     "name": "stdout",
     "output_type": "stream",
     "text": [
      "The dataset has 1308 missing values in test data.\n",
      "The dataset has 46411 duplicates in train data.\n"
     ]
    }
   ],
   "source": [
    "# check missing values in the dataset\n",
    "print('The dataset has', df.isna().sum().sum(), 'missing values in test data.')\n",
    "# check any duplicate records in the dataset\n",
    "print('The dataset has', df.duplicated().sum(), 'duplicates in train data.')"
   ]
  },
  {
   "cell_type": "code",
   "execution_count": 52,
   "id": "4e1d7bfc",
   "metadata": {},
   "outputs": [],
   "source": [
    "# remove missing values in the dataset\n",
    "df.dropna(inplace= True)\n",
    "# remove all duplicate records in the dataset\n",
    "df.drop_duplicates(inplace= True)"
   ]
  },
  {
   "cell_type": "code",
   "execution_count": 53,
   "id": "ca782d67",
   "metadata": {},
   "outputs": [
    {
     "name": "stdout",
     "output_type": "stream",
     "text": [
      "The dataset has 0 missing values in test data.\n",
      "The dataset has 0 duplicates in train data.\n"
     ]
    }
   ],
   "source": [
    "# check missing values in the dataset\n",
    "print('The dataset has', df.isna().sum().sum(), 'missing values in test data.')\n",
    "# check any duplicate records in the dataset\n",
    "print('The dataset has', df.duplicated().sum(), 'duplicates in train data.')"
   ]
  },
  {
   "cell_type": "code",
   "execution_count": 54,
   "id": "7ce5f4d9",
   "metadata": {},
   "outputs": [],
   "source": [
    "texts = df[\"body\"].tolist()\n",
    "labels = df[[\"task\",\"bug\",\"documentation\",\"duplicate\",\"enhancement\",\"good_first_issue\",\"help_wanted\",\"invalid\",\"question\",\"wontfix\",\"gitalk\",\"priority_medium\",\"priority_high\",\"feature_request\",\"feature\"]].values\n"
   ]
  },
  {
   "cell_type": "code",
   "execution_count": 55,
   "id": "93d64184",
   "metadata": {},
   "outputs": [],
   "source": [
    "# spliting dataset to train and test\n",
    "from sklearn.model_selection import train_test_split\n",
    "train_texts, test_texts, train_labels, test_labels = train_test_split(texts, labels, test_size=0.2, random_state=42)\n"
   ]
  },
  {
   "cell_type": "code",
   "execution_count": 56,
   "id": "bb512e5c",
   "metadata": {},
   "outputs": [],
   "source": [
    "from sklearn.feature_extraction.text import TfidfVectorizer\n",
    "from sklearn.metrics import accuracy_score, f1_score, classification_report\n",
    "\n",
    "# Vectorize the texts using TF-IDF\n",
    "vectorizer = TfidfVectorizer()\n",
    "train_vectors = vectorizer.fit_transform(train_texts)\n",
    "test_vectors = vectorizer.transform(test_texts)\n"
   ]
  },
  {
   "cell_type": "code",
   "execution_count": 57,
   "id": "434a56a8",
   "metadata": {},
   "outputs": [],
   "source": [
    "from sklearn.ensemble import RandomForestClassifier"
   ]
  },
  {
   "cell_type": "code",
   "execution_count": 58,
   "id": "e8c322b1",
   "metadata": {},
   "outputs": [
    {
     "data": {
      "text/plain": [
       "RandomForestClassifier(random_state=42)"
      ]
     },
     "execution_count": 58,
     "metadata": {},
     "output_type": "execute_result"
    }
   ],
   "source": [
    "# Train the Random Forest Classifier\n",
    "rf = RandomForestClassifier(n_estimators=100, random_state=42)\n",
    "rf.fit(train_vectors, train_labels)"
   ]
  },
  {
   "cell_type": "code",
   "execution_count": 59,
   "id": "5892f4f1",
   "metadata": {},
   "outputs": [],
   "source": [
    "# Predict on test set\n",
    "predictions = rf.predict(test_vectors)"
   ]
  },
  {
   "cell_type": "code",
   "execution_count": 87,
   "id": "16416dc3",
   "metadata": {},
   "outputs": [
    {
     "name": "stdout",
     "output_type": "stream",
     "text": [
      "              precision    recall  f1-score   support\n",
      "\n",
      "           0       0.91      0.26      0.40       596\n",
      "           1       0.85      0.80      0.82     17769\n",
      "           2       0.93      0.14      0.25      1883\n",
      "           3       0.40      0.04      0.08       461\n",
      "           4       0.71      0.38      0.49     10110\n",
      "           5       0.90      0.13      0.23      2919\n",
      "           6       0.91      0.12      0.21      2422\n",
      "           7       0.59      0.07      0.12       333\n",
      "           8       0.76      0.05      0.09      1877\n",
      "           9       0.59      0.04      0.07       739\n",
      "          10       1.00      0.88      0.94        82\n",
      "          11       0.00      0.00      0.00         3\n",
      "          12       1.00      0.19      0.32        16\n",
      "          13       0.88      0.07      0.14       592\n",
      "          14       0.93      0.14      0.25      3434\n",
      "\n",
      "   micro avg       0.82      0.46      0.59     43236\n",
      "   macro avg       0.76      0.22      0.29     43236\n",
      "weighted avg       0.82      0.46      0.53     43236\n",
      " samples avg       0.54      0.51      0.52     43236\n",
      "\n"
     ]
    },
    {
     "name": "stderr",
     "output_type": "stream",
     "text": [
      "/Users/macbookpro/opt/anaconda3/lib/python3.9/site-packages/sklearn/metrics/_classification.py:1248: UndefinedMetricWarning: Precision and F-score are ill-defined and being set to 0.0 in labels with no predicted samples. Use `zero_division` parameter to control this behavior.\n",
      "  _warn_prf(average, modifier, msg_start, len(result))\n",
      "/Users/macbookpro/opt/anaconda3/lib/python3.9/site-packages/sklearn/metrics/_classification.py:1248: UndefinedMetricWarning: Precision and F-score are ill-defined and being set to 0.0 in samples with no predicted labels. Use `zero_division` parameter to control this behavior.\n",
      "  _warn_prf(average, modifier, msg_start, len(result))\n"
     ]
    }
   ],
   "source": [
    "from sklearn.metrics import accuracy_score, hamming_loss, f1_score, classification_report\n",
    "rpt = classification_report(test_labels, predictions)\n",
    "\n",
    "print(rpt)"
   ]
  },
  {
   "cell_type": "code",
   "execution_count": 66,
   "id": "be075192",
   "metadata": {},
   "outputs": [
    {
     "name": "stdout",
     "output_type": "stream",
     "text": [
      "Hamming score: 0.08833934110151731\n"
     ]
    }
   ],
   "source": [
    "from sklearn.metrics import hamming_loss\n",
    "print(\"Hamming score: {}\".format(hamming_loss(y_test, predictions)))"
   ]
  },
  {
   "cell_type": "code",
   "execution_count": 86,
   "id": "cd56a8ea",
   "metadata": {},
   "outputs": [
    {
     "name": "stdout",
     "output_type": "stream",
     "text": [
      "RF - Accuracy: 0.46617486796881547\n",
      "RF - Hamming Loss: 0.08833934110151731\n",
      "RF - Precision: 0.820890608280517\n",
      "RF - Recall: 0.4613285225275234\n",
      "RF - F1 score: 0.5906950573044688\n"
     ]
    }
   ],
   "source": [
    "from sklearn.metrics import accuracy_score, hamming_loss, f1_score, precision_score, recall_score\n",
    "\n",
    "accuracy = accuracy_score(test_labels, predictions)\n",
    "hl = hamming_loss(y_test, predictions)\n",
    "f1 = f1_score(test_labels, predictions, average='micro')\n",
    "p = precision_score(test_labels, predictions, average='micro')\n",
    "r = recall_score(test_labels, predictions, average='micro')\n",
    "\n",
    "\n",
    "\n",
    "print(f\"RF - Accuracy: {accuracy}\")\n",
    "print(f\"RF - Hamming Loss: {hl}\")\n",
    "print(f\"RF - Precision: {p}\")\n",
    "print(f\"RF - Recall: {r}\")\n",
    "print(f\"RF - F1 score: {f1}\")"
   ]
  }
 ],
 "metadata": {
  "kernelspec": {
   "display_name": "Python 3 (ipykernel)",
   "language": "python",
   "name": "python3"
  },
  "language_info": {
   "codemirror_mode": {
    "name": "ipython",
    "version": 3
   },
   "file_extension": ".py",
   "mimetype": "text/x-python",
   "name": "python",
   "nbconvert_exporter": "python",
   "pygments_lexer": "ipython3",
   "version": "3.9.7"
  }
 },
 "nbformat": 4,
 "nbformat_minor": 5
}
